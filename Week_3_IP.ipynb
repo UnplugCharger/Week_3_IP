{
  "nbformat": 4,
  "nbformat_minor": 0,
  "metadata": {
    "colab": {
      "name": "Week_3_IP",
      "provenance": [],
      "authorship_tag": "ABX9TyPc+Q7cY5wTA3ay5xicrBFr",
      "include_colab_link": true
    },
    "kernelspec": {
      "name": "python3",
      "display_name": "Python 3"
    }
  },
  "cells": [
    {
      "cell_type": "markdown",
      "metadata": {
        "id": "view-in-github",
        "colab_type": "text"
      },
      "source": [
        "<a href=\"https://colab.research.google.com/github/UnplugCharger/Week_3_IP/blob/master/Week_3_IP.ipynb\" target=\"_parent\"><img src=\"https://colab.research.google.com/assets/colab-badge.svg\" alt=\"Open In Colab\"/></a>"
      ]
    },
    {
      "cell_type": "markdown",
      "metadata": {
        "id": "mBk_G6gBQQci",
        "colab_type": "text"
      },
      "source": [
        "# 1.1 Overview"
      ]
    },
    {
      "cell_type": "markdown",
      "metadata": {
        "id": "p7UC_dJEQdro",
        "colab_type": "text"
      },
      "source": [
        "Detroit City archives are  contain records of city occurrences such as Police briefing Meetings since 1975, Property Sales in the city since 1975 and many more Records.  These records are made and mainatined by  different \n",
        "depatments. In our study we are going to use records from the Mayors office.\n",
        "\n",
        "Our sample is designed to try and to try and understand the sales of property withing the city in different quatres of the year."
      ]
    },
    {
      "cell_type": "markdown",
      "metadata": {
        "id": "d2sAn-vPG-P6",
        "colab_type": "text"
      },
      "source": [
        "#  1.2 Sampling Objectives and Reliability"
      ]
    },
    {
      "cell_type": "markdown",
      "metadata": {
        "id": "vlt330jCRj1U",
        "colab_type": "text"
      },
      "source": [
        "To achieve the sample desin objective stated above we are going to use stratified sampling. Since our main focus is on the sales of properties  in different quatres of the year. We will use the Sales Month and Year as the strata"
      ]
    },
    {
      "cell_type": "markdown",
      "metadata": {
        "id": "vVOcF_67IeSh",
        "colab_type": "text"
      },
      "source": [
        "# Implementation Plan"
      ]
    },
    {
      "cell_type": "markdown",
      "metadata": {
        "id": "GdzTRVS0H3vI",
        "colab_type": "text"
      },
      "source": [
        "# Data Collection"
      ]
    },
    {
      "cell_type": "code",
      "metadata": {
        "id": "htOPbTsGKark",
        "colab_type": "code",
        "colab": {
          "base_uri": "https://localhost:8080/",
          "height": 51
        },
        "outputId": "1ce958fc-71ee-4f50-8637-cf5516f0def2"
      },
      "source": [
        "import pandas as pd\n",
        "df = pd.read_csv('https://query.data.world/s/syc5wmmact4a6oretdfdcfxztasdba')"
      ],
      "execution_count": 27,
      "outputs": [
        {
          "output_type": "stream",
          "text": [
            "/usr/local/lib/python3.6/dist-packages/IPython/core/interactiveshell.py:2718: DtypeWarning: Columns (2) have mixed types.Specify dtype option on import or set low_memory=False.\n",
            "  interactivity=interactivity, compiler=compiler, result=result)\n"
          ],
          "name": "stderr"
        }
      ]
    },
    {
      "cell_type": "markdown",
      "metadata": {
        "id": "PtOErl_AKh5g",
        "colab_type": "text"
      },
      "source": [
        ""
      ]
    },
    {
      "cell_type": "markdown",
      "metadata": {
        "id": "5p3uTuK_HSXF",
        "colab_type": "text"
      },
      "source": [
        "# Population"
      ]
    },
    {
      "cell_type": "code",
      "metadata": {
        "id": "_L_cdHpPZFq1",
        "colab_type": "code",
        "colab": {
          "base_uri": "https://localhost:8080/",
          "height": 34
        },
        "outputId": "457fe659-8d37-455e-9bbb-88930a6b634e"
      },
      "source": [
        "df.shape"
      ],
      "execution_count": 2,
      "outputs": [
        {
          "output_type": "execute_result",
          "data": {
            "text/plain": [
              "(601998, 14)"
            ]
          },
          "metadata": {
            "tags": []
          },
          "execution_count": 2
        }
      ]
    },
    {
      "cell_type": "code",
      "metadata": {
        "id": "KUL9bzVoZKMN",
        "colab_type": "code",
        "colab": {
          "base_uri": "https://localhost:8080/",
          "height": 85
        },
        "outputId": "2dc24c87-dad2-4867-d4c3-aca6bc670af2"
      },
      "source": [
        "df.columns"
      ],
      "execution_count": 3,
      "outputs": [
        {
          "output_type": "execute_result",
          "data": {
            "text/plain": [
              "Index(['PARCELNO', 'PROPCLASS', 'PROPADDR', 'SALEDATE', 'SALEPRICE', 'SALENO',\n",
              "       'GRANTEE', 'GRANTOR', 'SalesInstr', 'PROPNO', 'PROPDIR', 'PROPSTR',\n",
              "       'PROPZIP', 'SALETERMS'],\n",
              "      dtype='object')"
            ]
          },
          "metadata": {
            "tags": []
          },
          "execution_count": 3
        }
      ]
    },
    {
      "cell_type": "markdown",
      "metadata": {
        "id": "rz9bzWdHZOgy",
        "colab_type": "text"
      },
      "source": [
        "Our Population consists of six hundred and one thousand nine hundred and ninety eight entries \n",
        "\n",
        "The records contain sales date sales number sales price. Our Main concern is the sales date as it will help up come up with the strata"
      ]
    },
    {
      "cell_type": "markdown",
      "metadata": {
        "id": "Jku73ZFGHdeX",
        "colab_type": "text"
      },
      "source": [
        "# Sampling Approach"
      ]
    },
    {
      "cell_type": "markdown",
      "metadata": {
        "id": "g8IguArscXqT",
        "colab_type": "text"
      },
      "source": [
        "The sampling approach we will use in our case is the Random Stratified sampling. OUr sampling strata will be Month and Year which will be obtained from the SalesDate column from our dataset."
      ]
    },
    {
      "cell_type": "markdown",
      "metadata": {
        "id": "vTlzv0I5HjYM",
        "colab_type": "text"
      },
      "source": [
        "#  Sample Size"
      ]
    },
    {
      "cell_type": "code",
      "metadata": {
        "id": "4whmSafSeGtV",
        "colab_type": "code",
        "colab": {
          "base_uri": "https://localhost:8080/",
          "height": 119
        },
        "outputId": "dae9f107-aa41-4b7d-81cf-16a43d2b8451"
      },
      "source": [
        "pd.to_datetime(df['SALEDATE'],errors='coerce').head()    "
      ],
      "execution_count": 28,
      "outputs": [
        {
          "output_type": "execute_result",
          "data": {
            "text/plain": [
              "0   2016-03-02\n",
              "1   2016-03-02\n",
              "2   2016-03-02\n",
              "3   2016-03-02\n",
              "4   2016-03-02\n",
              "Name: SALEDATE, dtype: datetime64[ns]"
            ]
          },
          "metadata": {
            "tags": []
          },
          "execution_count": 28
        }
      ]
    },
    {
      "cell_type": "code",
      "metadata": {
        "id": "QUjyEKRIghMG",
        "colab_type": "code",
        "colab": {}
      },
      "source": [
        "df['SALEYEAR'] = pd.DatetimeIndex(df['SALEDATE']).year\n",
        "df['SALEMONTH'] = pd.DatetimeIndex(df['SALEDATE']).month"
      ],
      "execution_count": 29,
      "outputs": []
    },
    {
      "cell_type": "code",
      "metadata": {
        "id": "Gt9YQdhEimzx",
        "colab_type": "code",
        "colab": {
          "base_uri": "https://localhost:8080/",
          "height": 289
        },
        "outputId": "b24bbd03-f620-4832-addd-40e99eedcb55"
      },
      "source": [
        "df.head()"
      ],
      "execution_count": 30,
      "outputs": [
        {
          "output_type": "execute_result",
          "data": {
            "text/html": [
              "<div>\n",
              "<style scoped>\n",
              "    .dataframe tbody tr th:only-of-type {\n",
              "        vertical-align: middle;\n",
              "    }\n",
              "\n",
              "    .dataframe tbody tr th {\n",
              "        vertical-align: top;\n",
              "    }\n",
              "\n",
              "    .dataframe thead th {\n",
              "        text-align: right;\n",
              "    }\n",
              "</style>\n",
              "<table border=\"1\" class=\"dataframe\">\n",
              "  <thead>\n",
              "    <tr style=\"text-align: right;\">\n",
              "      <th></th>\n",
              "      <th>PARCELNO</th>\n",
              "      <th>PROPCLASS</th>\n",
              "      <th>PROPADDR</th>\n",
              "      <th>SALEDATE</th>\n",
              "      <th>SALEPRICE</th>\n",
              "      <th>SALENO</th>\n",
              "      <th>GRANTEE</th>\n",
              "      <th>GRANTOR</th>\n",
              "      <th>SalesInstr</th>\n",
              "      <th>PROPNO</th>\n",
              "      <th>PROPDIR</th>\n",
              "      <th>PROPSTR</th>\n",
              "      <th>PROPZIP</th>\n",
              "      <th>SALETERMS</th>\n",
              "      <th>SALEYEAR</th>\n",
              "      <th>SALEMONTH</th>\n",
              "    </tr>\n",
              "  </thead>\n",
              "  <tbody>\n",
              "    <tr>\n",
              "      <th>0</th>\n",
              "      <td>22123947.</td>\n",
              "      <td>401</td>\n",
              "      <td>NaN</td>\n",
              "      <td>03/02/2016</td>\n",
              "      <td>$1.00</td>\n",
              "      <td>1</td>\n",
              "      <td>HALL, EDWARD</td>\n",
              "      <td>LAURA, TRINA</td>\n",
              "      <td>QC</td>\n",
              "      <td>18624</td>\n",
              "      <td>NaN</td>\n",
              "      <td>WINSTON</td>\n",
              "      <td>48219</td>\n",
              "      <td>REVIEW NEEDED</td>\n",
              "      <td>2016</td>\n",
              "      <td>3</td>\n",
              "    </tr>\n",
              "    <tr>\n",
              "      <th>1</th>\n",
              "      <td>21015633.010</td>\n",
              "      <td>401</td>\n",
              "      <td>NaN</td>\n",
              "      <td>03/02/2016</td>\n",
              "      <td>$5000.00</td>\n",
              "      <td>1</td>\n",
              "      <td>ANDERSON, ANTONIO</td>\n",
              "      <td>WARE, EDISON</td>\n",
              "      <td>QC</td>\n",
              "      <td>18694</td>\n",
              "      <td>NaN</td>\n",
              "      <td>ALCOY</td>\n",
              "      <td>48205</td>\n",
              "      <td>REVIEW NEEDED</td>\n",
              "      <td>2016</td>\n",
              "      <td>3</td>\n",
              "    </tr>\n",
              "    <tr>\n",
              "      <th>2</th>\n",
              "      <td>17007012.</td>\n",
              "      <td>404</td>\n",
              "      <td>NaN</td>\n",
              "      <td>03/02/2016</td>\n",
              "      <td>NaN</td>\n",
              "      <td>1</td>\n",
              "      <td>NaN</td>\n",
              "      <td>HASKA, WILLIAM</td>\n",
              "      <td>WD</td>\n",
              "      <td>2130</td>\n",
              "      <td>NaN</td>\n",
              "      <td>IROQUOIS</td>\n",
              "      <td>48214</td>\n",
              "      <td>REVIEW NEEDED</td>\n",
              "      <td>2016</td>\n",
              "      <td>3</td>\n",
              "    </tr>\n",
              "    <tr>\n",
              "      <th>3</th>\n",
              "      <td>21042739.</td>\n",
              "      <td>401</td>\n",
              "      <td>NaN</td>\n",
              "      <td>03/02/2016</td>\n",
              "      <td>$1.00</td>\n",
              "      <td>1</td>\n",
              "      <td>HERBERT, WILLIE JR</td>\n",
              "      <td>HERBERT, CLARA L</td>\n",
              "      <td>PTA</td>\n",
              "      <td>3960</td>\n",
              "      <td>NaN</td>\n",
              "      <td>LILLIBRIDGE</td>\n",
              "      <td>48214</td>\n",
              "      <td>NQ</td>\n",
              "      <td>2016</td>\n",
              "      <td>3</td>\n",
              "    </tr>\n",
              "    <tr>\n",
              "      <th>4</th>\n",
              "      <td>21077568-9</td>\n",
              "      <td>401</td>\n",
              "      <td>NaN</td>\n",
              "      <td>03/02/2016</td>\n",
              "      <td>$4400.00</td>\n",
              "      <td>1</td>\n",
              "      <td>MASON, CHARLES ANTHONY</td>\n",
              "      <td>MUMPHORD, TAHNIA</td>\n",
              "      <td>PTA</td>\n",
              "      <td>5036</td>\n",
              "      <td>NaN</td>\n",
              "      <td>MARSEILLES</td>\n",
              "      <td>48224</td>\n",
              "      <td>REVIEW NEEDED</td>\n",
              "      <td>2016</td>\n",
              "      <td>3</td>\n",
              "    </tr>\n",
              "  </tbody>\n",
              "</table>\n",
              "</div>"
            ],
            "text/plain": [
              "       PARCELNO  PROPCLASS PROPADDR  ...      SALETERMS SALEYEAR  SALEMONTH\n",
              "0     22123947.        401      NaN  ...  REVIEW NEEDED     2016          3\n",
              "1  21015633.010        401      NaN  ...  REVIEW NEEDED     2016          3\n",
              "2     17007012.        404      NaN  ...  REVIEW NEEDED     2016          3\n",
              "3     21042739.        401      NaN  ...             NQ     2016          3\n",
              "4    21077568-9        401      NaN  ...  REVIEW NEEDED     2016          3\n",
              "\n",
              "[5 rows x 16 columns]"
            ]
          },
          "metadata": {
            "tags": []
          },
          "execution_count": 30
        }
      ]
    },
    {
      "cell_type": "code",
      "metadata": {
        "id": "inFigImokMTJ",
        "colab_type": "code",
        "colab": {
          "base_uri": "https://localhost:8080/",
          "height": 238
        },
        "outputId": "f5d663b2-daa8-4109-93e6-339569346c32"
      },
      "source": [
        "df['SALEMONTH'].value_counts()"
      ],
      "execution_count": 32,
      "outputs": [
        {
          "output_type": "execute_result",
          "data": {
            "text/plain": [
              "11    62733\n",
              "12    59968\n",
              "8     52663\n",
              "10    52352\n",
              "6     50377\n",
              "3     48790\n",
              "7     46880\n",
              "5     46750\n",
              "9     46277\n",
              "4     46207\n",
              "1     45671\n",
              "2     43330\n",
              "Name: SALEMONTH, dtype: int64"
            ]
          },
          "metadata": {
            "tags": []
          },
          "execution_count": 32
        }
      ]
    },
    {
      "cell_type": "code",
      "metadata": {
        "id": "jMYXEDuqlEhm",
        "colab_type": "code",
        "colab": {
          "base_uri": "https://localhost:8080/",
          "height": 493
        },
        "outputId": "014a7cd9-cc66-4d04-dc84-7081d3caafbb"
      },
      "source": [
        "df['SALEYEAR'].value_counts()"
      ],
      "execution_count": 33,
      "outputs": [
        {
          "output_type": "execute_result",
          "data": {
            "text/plain": [
              "2006    40653\n",
              "1999    31812\n",
              "2004    31171\n",
              "2007    31097\n",
              "2005    30282\n",
              "2008    30110\n",
              "2000    29127\n",
              "2003    28694\n",
              "2013    26558\n",
              "2009    25768\n",
              "2001    25668\n",
              "2012    25577\n",
              "2015    23658\n",
              "2014    22882\n",
              "1998    22861\n",
              "2010    22081\n",
              "2011    20950\n",
              "2002    20288\n",
              "1997    18408\n",
              "1996    16105\n",
              "1995    14576\n",
              "1994    13282\n",
              "1990    13022\n",
              "1993    12058\n",
              "1992    11879\n",
              "1991    11849\n",
              "2016     1582\n",
              "Name: SALEYEAR, dtype: int64"
            ]
          },
          "metadata": {
            "tags": []
          },
          "execution_count": 33
        }
      ]
    },
    {
      "cell_type": "code",
      "metadata": {
        "id": "yqeMdZYunYYt",
        "colab_type": "code",
        "colab": {}
      },
      "source": [
        "strat_output = df.groupby(['SALEYEAR', 'SALEMONTH'], group_keys=False).apply(lambda grouped_subset : grouped_subset.sample(frac=0.1))"
      ],
      "execution_count": 34,
      "outputs": []
    },
    {
      "cell_type": "markdown",
      "metadata": {
        "id": "HCVoGIgRHpw9",
        "colab_type": "text"
      },
      "source": [
        "# Sample Representativeness"
      ]
    },
    {
      "cell_type": "code",
      "metadata": {
        "id": "AePRYEJUoMaq",
        "colab_type": "code",
        "colab": {
          "base_uri": "https://localhost:8080/",
          "height": 238
        },
        "outputId": "553728bf-d327-441f-eff0-debf4adbde38"
      },
      "source": [
        "strat_output['SALEMONTH'].value_counts()"
      ],
      "execution_count": 35,
      "outputs": [
        {
          "output_type": "execute_result",
          "data": {
            "text/plain": [
              "11    6275\n",
              "12    5997\n",
              "8     5268\n",
              "10    5235\n",
              "6     5036\n",
              "3     4879\n",
              "7     4690\n",
              "5     4673\n",
              "9     4627\n",
              "4     4618\n",
              "1     4566\n",
              "2     4333\n",
              "Name: SALEMONTH, dtype: int64"
            ]
          },
          "metadata": {
            "tags": []
          },
          "execution_count": 35
        }
      ]
    },
    {
      "cell_type": "code",
      "metadata": {
        "id": "hZHoA5QkoWeb",
        "colab_type": "code",
        "colab": {
          "base_uri": "https://localhost:8080/",
          "height": 493
        },
        "outputId": "494aa70b-aaa6-4007-9f4c-3ff3f50b5666"
      },
      "source": [
        "strat_output['SALEYEAR'].value_counts()"
      ],
      "execution_count": 36,
      "outputs": [
        {
          "output_type": "execute_result",
          "data": {
            "text/plain": [
              "2006    4064\n",
              "1999    3181\n",
              "2004    3117\n",
              "2007    3111\n",
              "2005    3028\n",
              "2008    3010\n",
              "2000    2911\n",
              "2003    2870\n",
              "2013    2655\n",
              "2009    2579\n",
              "2001    2566\n",
              "2012    2556\n",
              "2015    2365\n",
              "2014    2289\n",
              "1998    2286\n",
              "2010    2209\n",
              "2011    2096\n",
              "2002    2030\n",
              "1997    1840\n",
              "1996    1612\n",
              "1995    1458\n",
              "1994    1328\n",
              "1990    1302\n",
              "1993    1205\n",
              "1992    1188\n",
              "1991    1183\n",
              "2016     158\n",
              "Name: SALEYEAR, dtype: int64"
            ]
          },
          "metadata": {
            "tags": []
          },
          "execution_count": 36
        }
      ]
    },
    {
      "cell_type": "markdown",
      "metadata": {
        "id": "g9W-JomyHyRe",
        "colab_type": "text"
      },
      "source": [
        "# Quality Assurance / Quality Control"
      ]
    }
  ]
}