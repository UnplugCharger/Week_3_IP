{
  "nbformat": 4,
  "nbformat_minor": 0,
  "metadata": {
    "colab": {
      "name": "Week_3_IP",
      "provenance": [],
      "authorship_tag": "ABX9TyNy2QuNmLj2slKVv/Uw6xdc",
      "include_colab_link": true
    },
    "kernelspec": {
      "name": "python3",
      "display_name": "Python 3"
    }
  },
  "cells": [
    {
      "cell_type": "markdown",
      "metadata": {
        "id": "view-in-github",
        "colab_type": "text"
      },
      "source": [
        "<a href=\"https://colab.research.google.com/github/UnplugCharger/Week_3_IP/blob/master/Week_3_IP.ipynb\" target=\"_parent\"><img src=\"https://colab.research.google.com/assets/colab-badge.svg\" alt=\"Open In Colab\"/></a>"
      ]
    },
    {
      "cell_type": "markdown",
      "metadata": {
        "id": "mBk_G6gBQQci",
        "colab_type": "text"
      },
      "source": [
        "# 1.1 Overview"
      ]
    },
    {
      "cell_type": "markdown",
      "metadata": {
        "id": "p7UC_dJEQdro",
        "colab_type": "text"
      },
      "source": [
        "Detroit City archives are  contain records of city occurrences such as Police briefing Meetings since 1975, Property Sales in the city since 1975 and many more Records.  These records are made and mainatined by  different \n",
        "depatments. In our study we are going to use records from the Mayors office.\n",
        "\n",
        "Our sample is designed to try and to try and understand the sales of property withing the city in different quatres of the year."
      ]
    },
    {
      "cell_type": "markdown",
      "metadata": {
        "id": "d2sAn-vPG-P6",
        "colab_type": "text"
      },
      "source": [
        "#  1.2 Sampling Objectives and Reliability"
      ]
    },
    {
      "cell_type": "markdown",
      "metadata": {
        "id": "vlt330jCRj1U",
        "colab_type": "text"
      },
      "source": [
        "To achieve the sample desin objective stated above we are going to use stratified sampling. Since our main focus is on the sales of properties  in different quatres of the year. We will use the Sales Month and Year as the strata"
      ]
    },
    {
      "cell_type": "markdown",
      "metadata": {
        "id": "vVOcF_67IeSh",
        "colab_type": "text"
      },
      "source": [
        "# Implementation Plan"
      ]
    },
    {
      "cell_type": "markdown",
      "metadata": {
        "id": "GdzTRVS0H3vI",
        "colab_type": "text"
      },
      "source": [
        "# Data Collection"
      ]
    },
    {
      "cell_type": "code",
      "metadata": {
        "id": "htOPbTsGKark",
        "colab_type": "code",
        "colab": {
          "base_uri": "https://localhost:8080/",
          "height": 51
        },
        "outputId": "45a66ffe-1ce8-4a92-d680-0070241f1664"
      },
      "source": [
        "import pandas as pd\n",
        "df = pd.read_csv('https://query.data.world/s/syc5wmmact4a6oretdfdcfxztasdba')"
      ],
      "execution_count": 1,
      "outputs": [
        {
          "output_type": "stream",
          "text": [
            "/usr/local/lib/python3.6/dist-packages/IPython/core/interactiveshell.py:2718: DtypeWarning: Columns (2) have mixed types.Specify dtype option on import or set low_memory=False.\n",
            "  interactivity=interactivity, compiler=compiler, result=result)\n"
          ],
          "name": "stderr"
        }
      ]
    },
    {
      "cell_type": "markdown",
      "metadata": {
        "id": "PtOErl_AKh5g",
        "colab_type": "text"
      },
      "source": [
        ""
      ]
    },
    {
      "cell_type": "markdown",
      "metadata": {
        "id": "5p3uTuK_HSXF",
        "colab_type": "text"
      },
      "source": [
        "# Population"
      ]
    },
    {
      "cell_type": "code",
      "metadata": {
        "id": "_L_cdHpPZFq1",
        "colab_type": "code",
        "colab": {
          "base_uri": "https://localhost:8080/",
          "height": 34
        },
        "outputId": "457fe659-8d37-455e-9bbb-88930a6b634e"
      },
      "source": [
        "df.shape"
      ],
      "execution_count": 2,
      "outputs": [
        {
          "output_type": "execute_result",
          "data": {
            "text/plain": [
              "(601998, 14)"
            ]
          },
          "metadata": {
            "tags": []
          },
          "execution_count": 2
        }
      ]
    },
    {
      "cell_type": "code",
      "metadata": {
        "id": "KUL9bzVoZKMN",
        "colab_type": "code",
        "colab": {
          "base_uri": "https://localhost:8080/",
          "height": 85
        },
        "outputId": "2dc24c87-dad2-4867-d4c3-aca6bc670af2"
      },
      "source": [
        "df.columns"
      ],
      "execution_count": 3,
      "outputs": [
        {
          "output_type": "execute_result",
          "data": {
            "text/plain": [
              "Index(['PARCELNO', 'PROPCLASS', 'PROPADDR', 'SALEDATE', 'SALEPRICE', 'SALENO',\n",
              "       'GRANTEE', 'GRANTOR', 'SalesInstr', 'PROPNO', 'PROPDIR', 'PROPSTR',\n",
              "       'PROPZIP', 'SALETERMS'],\n",
              "      dtype='object')"
            ]
          },
          "metadata": {
            "tags": []
          },
          "execution_count": 3
        }
      ]
    },
    {
      "cell_type": "markdown",
      "metadata": {
        "id": "rz9bzWdHZOgy",
        "colab_type": "text"
      },
      "source": [
        "Our Population consists of six hundred and one thousand nine hundred and ninety eight entries \n",
        "\n",
        "The records contain sales date sales number sales price. Our Main concen is the sales date as it will help up come up with the strata"
      ]
    },
    {
      "cell_type": "markdown",
      "metadata": {
        "id": "Jku73ZFGHdeX",
        "colab_type": "text"
      },
      "source": [
        "# Sampling Approach"
      ]
    },
    {
      "cell_type": "markdown",
      "metadata": {
        "id": "vTlzv0I5HjYM",
        "colab_type": "text"
      },
      "source": [
        "#  Sample Size"
      ]
    },
    {
      "cell_type": "markdown",
      "metadata": {
        "id": "HCVoGIgRHpw9",
        "colab_type": "text"
      },
      "source": [
        "# Sample Representativeness"
      ]
    },
    {
      "cell_type": "markdown",
      "metadata": {
        "id": "g9W-JomyHyRe",
        "colab_type": "text"
      },
      "source": [
        "# Quality Assurance / Quality Control"
      ]
    }
  ]
}